{
 "cells": [
  {
   "cell_type": "code",
   "execution_count": null,
   "metadata": {},
   "outputs": [],
   "source": [
    "import numpy as np\n",
    "\n",
    "import os\n",
    "import os.path as op\n",
    "\n",
    "import matplotlib.pyplot as plt\n",
    "\n",
    "import nibabel as nib\n",
    "\n",
    "import importlib\n",
    "\n",
    "import interpolation as interp"
   ]
  },
  {
   "cell_type": "code",
   "execution_count": null,
   "metadata": {},
   "outputs": [],
   "source": [
    "from nilearn import image\n",
    "\n",
    "path_to_dir = \"/Users/acionca/data/hcph-template/multivar-v00/derivatives/allInRef\"\n",
    "anat_files = interp.get_anat_filenames(path_to_dir, template_prefix=\"ayaya\", pattern=\"Template.nii.gz\")\n",
    "\n",
    "exclude = [\"ses-025\", \"ses-pilot019\", \"ses-pilot021\"]\n",
    "for excl in exclude:\n",
    "    anat_files = [file for file in anat_files if excl not in file]\n",
    "\n",
    "ses_id = [\"\\n\".join([f\"{i}\", op.basename(file).split(\"_\")[3].split(\"-\")[-1]]) for i, file in enumerate(anat_files)]\n",
    "\n",
    "concat = image.concat_imgs(anat_files, dtype=np.int16)\n",
    "\n",
    "concat_mean = image.mean_img(concat)\n",
    "concat_std = image.math_img(\"np.std(img, axis=-1)\", img=concat)\n",
    "\n",
    "concat_std.to_filename(f\"/Users/acionca/data/hcph-template/std_img_N{len(anat_files)}.nii.gz\")\n",
    "concat_mean.to_filename(f\"/Users/acionca/data/hcph-template/mean_img_N{len(anat_files)}.nii.gz\")\n",
    "\n",
    "concat_array = concat.get_fdata()\n",
    "del concat"
   ]
  },
  {
   "cell_type": "code",
   "execution_count": null,
   "metadata": {},
   "outputs": [],
   "source": [
    "slice_id = 189\n",
    "square_x = [165, 175]\n",
    "square_y = [165, 175]\n",
    "\n",
    "draw_square_x = [square_x[0], square_x[1], square_x[1], square_x[0], square_x[0]]\n",
    "draw_square_y = [square_y[0], square_y[0], square_y[1], square_y[1], square_y[0]]\n",
    "\n",
    "fig, ax = plt.subplots(ncols=2, figsize=(15, 8))\n",
    "\n",
    "ax[0].imshow(concat_array.mean(axis=-1)[..., slice_id], cmap=\"binary_r\", vmin=0)\n",
    "ax[1].imshow(concat_array.std(axis=-1)[..., slice_id], cmap=\"binary_r\", vmin=0, vmax=100)\n",
    "\n",
    "for one_ax in ax:\n",
    "    one_ax.plot(draw_square_x, draw_square_y)"
   ]
  },
  {
   "cell_type": "code",
   "execution_count": null,
   "metadata": {},
   "outputs": [],
   "source": [
    "square_array = concat_array[:, :, slice_id][:, square_x[0]:square_x[1]][square_y[0]:square_y[1]]\n",
    "print(square_array.shape)\n",
    "\n",
    "\n",
    "fig, ax = plt.subplots(ncols=2, figsize=(15, 8))\n",
    "\n",
    "ax[0].imshow(square_array.mean(axis=-1), cmap=\"binary_r\", vmin=0)\n",
    "ax[1].imshow(square_array.std(axis=-1), cmap=\"binary_r\", vmin=0)\n",
    "\n",
    "ax[0].set_title(\"Zoom on blue square - mean intensity\")\n",
    "ax[1].set_title(\"Zoom on blue square - STD intensity\")\n",
    "\n",
    "fig, ax = plt.subplots(figsize=(15, 8))\n",
    "\n",
    "val_per_ses = square_array.reshape((-1, square_array.shape[-1])).T\n",
    "x_scatter = np.vstack([np.arange(val_per_ses.shape[0])]*val_per_ses.shape[1]).T\n",
    "\n",
    "for i, val in enumerate(val_per_ses):\n",
    "    val_to_scatter = val[val > 0]\n",
    "    ax.scatter(np.full_like(val_to_scatter, i+1), val_to_scatter, color=\"tab:blue\", s=100, alpha=.6, edgecolor=\"none\")\n",
    "    ax.plot([i+.8, i+1.2], [val_to_scatter.mean()]*2, c=\"k\")\n",
    "\n",
    "ax.plot([-.2, len(val_per_ses)+.2], [val_per_ses.mean()]*2, c=\"k\", alpha=.3)\n",
    "\n",
    "chut = ax.set_xticks(1+np.arange(len(val_per_ses)), labels=ses_id)\n",
    "ax.set_xlabel(\"Session (with id on top)\")\n",
    "ax.set_ylabel(\"Voxel intensity\")\n",
    "#chut = ax.set_xticklabels(ses_id)\n",
    "#ax.scatter(x_scatter, val_per_ses)"
   ]
  },
  {
   "cell_type": "code",
   "execution_count": null,
   "metadata": {},
   "outputs": [],
   "source": [
    "importlib.reload(interp)\n",
    "\n",
    "np.random.seed(220367)\n",
    "#distances = np.random.normal(np.ones((2, 5))-.6, .1)\n",
    "distances = np.random.normal(np.ones((100, 1))-.6, .1)\n",
    "        \n",
    "fig, axes = plt.subplots(figsize=(10, 6))\n",
    "for offset, mark in zip([0, .1], [\"s\", \"o\"]):\n",
    "    for d_kernel in [1, 2, 3]:\n",
    "        norm_dist = interp.normalize_distances(distances, dist_kernel_order=d_kernel, offset=offset)\n",
    "\n",
    "        dif = np.abs(norm_dist.max() - norm_dist.min())\n",
    "        axes.scatter(distances.flatten(), norm_dist.flatten(), s=100, alpha=.3, ec=\"none\", marker=mark, label=f\"BSpline{d_kernel}, offset={offset:1.1f}, diff={dif:1.3f}\")\n",
    "\n",
    "axes.legend()\n",
    "axes.set_xlabel(\"Measured distance\")\n",
    "axes.set_ylabel(\"Normalized distance weight\")"
   ]
  }
 ],
 "metadata": {
  "kernelspec": {
   "display_name": "hcph",
   "language": "python",
   "name": "python3"
  },
  "language_info": {
   "codemirror_mode": {
    "name": "ipython",
    "version": 3
   },
   "file_extension": ".py",
   "mimetype": "text/x-python",
   "name": "python",
   "nbconvert_exporter": "python",
   "pygments_lexer": "ipython3",
   "version": "3.10.13"
  }
 },
 "nbformat": 4,
 "nbformat_minor": 2
}
