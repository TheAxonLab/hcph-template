{
 "cells": [
  {
   "cell_type": "code",
   "execution_count": null,
   "metadata": {},
   "outputs": [],
   "source": [
    "import numpy as np\n",
    "\n",
    "import nibabel as nib\n",
    "\n",
    "import skimage\n",
    "\n",
    "import matplotlib.pyplot as plt\n",
    "import os\n",
    "import os.path as op\n",
    "\n",
    "from tqdm.notebook import tqdm\n",
    "\n",
    "import interpolation as interp"
   ]
  },
  {
   "cell_type": "code",
   "execution_count": null,
   "metadata": {},
   "outputs": [],
   "source": [
    "path_to_data = \"/Users/acionca/data\"\n",
    "derivative_name = \"ants-t1N4bfcorr-ss\"\n",
    "\n",
    "#path_to_data = \"/home/acionca/Documents/data\"\n",
    "#derivative_name = \"ants-t1N4bfcorr-b80-noSkull\"\n",
    "\n",
    "path_to_imgs = op.join(path_to_data,\"hcph-template/multivar-v00/derivatives\"\n",
    "                f\"/{derivative_name}\")\n",
    "\n",
    "anat_files_list = interp.get_anat_filenames(path_to_imgs, pattern=\"corrden\",\n",
    "                                            exclude=[\"in0048\", \"rerun\"])\n",
    "\n",
    "path_to_mni = op.join(path_to_data, \"hcph-template/mni_template/mni_template-res0.8mm.nii.gz\")\n",
    "ref_img = nib.load(path_to_mni)\n",
    "ref_data = ref_img.get_fdata()\n",
    "\n",
    "vmax = 255\n",
    "scaled_ref_data = ref_data * vmax\n",
    "\n",
    "path_to_normalized = op.join(path_to_data, \"hcph-template/multivar-v00/derivatives\"\n",
    "                      f\"/{derivative_name}\")\n",
    "\n",
    "norm_files_list = interp.get_anat_filenames(path_to_normalized, exclude=[\"in0048\", \"rerun\"])\n",
    "\n",
    "first_img = nib.load(anat_files_list[0])\n",
    "#first_img = nib.load(norm_files_list[0])\n",
    "first_data = first_img.get_fdata()"
   ]
  },
  {
   "cell_type": "code",
   "execution_count": null,
   "metadata": {},
   "outputs": [],
   "source": [
    "anat_files_list_red = anat_files_list#[:2]\n",
    "\n",
    "fig, axes = plt.subplots(nrows=1, ncols=1, figsize=(12, 10))\n",
    "#fig, axes = plt.subplots(nrows=len(anat_files_list_red), ncols=1, figsize=(10, 5*len(anat_files_list_red)))\n",
    "\n",
    "percentile_to_show = 99\n",
    "img_percentile = np.percentile(first_data.flatten(), percentile_to_show, method=\"nearest\")+20\n",
    "nbins=(first_data.max()/2).astype(int)\n",
    "\n",
    "colors = plt.get_cmap(\"Spectral\", len(anat_files_list_red)+2)\n",
    "\n",
    "plt.hist(first_data.flatten(), bins=nbins, range=(10, img_percentile), color=\"tab:blue\")\n",
    "\n",
    "for i, file in enumerate(anat_files_list_red):\n",
    "    image_data = nib.load(file).get_fdata()\n",
    "\n",
    "    #plt.hist(image_data.flatten(), bins=nbins, range=(10, img_percentile), color=\"tab:blue\")\n",
    "    plt.hist(image_data.flatten(), bins=nbins, histtype=\"step\", range=(10, img_percentile), alpha=.6,\n",
    "             color=colors(i), linewidth=2, label=op.basename(file))\n",
    "    \n",
    "fig.legend(loc=\"upper right\", bbox_to_anchor=(1.2, 0.9))"
   ]
  },
  {
   "cell_type": "code",
   "execution_count": null,
   "metadata": {},
   "outputs": [],
   "source": [
    "#path_to_data = op.join(path_to_data, \"hcph-template/multivar-v00/derivatives\", derivative_name)\n",
    "\n",
    "anat_files_list = interp.get_anat_filenames(path_to_imgs, pattern=\"corrden\", modality_filter=[\"T2w\"],\n",
    "                                            exclude=[\"in0048\", \"rerun\"])\n",
    "\n",
    "first_img = nib.load(anat_files_list[0])\n",
    "first_data = first_img.get_fdata()\n",
    "\n",
    "#saveloc = \"/home/acionca/Documents/data/hcph-template/multivar-v00/derivatives/ants-t1N4bfcorr-b80/histomatch\"\n",
    "saveloc = path_to_imgs+\"-histomatch\"\n",
    "os.makedirs(saveloc, exist_ok=True)\n",
    "\n",
    "matched = []\n",
    "for i, file in enumerate(tqdm(anat_files_list)):\n",
    "    if i > 20:\n",
    "        savename = op.basename(file).replace(\"N4corrden\", \"N4corrdenhist\")\n",
    "        image = nib.load(file)\n",
    "        matched_data = skimage.exposure.match_histograms(image.get_fdata(), first_data)\n",
    "        matched.append(matched_data)\n",
    "\n",
    "        matched_img = nib.Nifti1Image(matched_data, affine=image.affine, dtype=\"uint8\")\n",
    "        matched_img.to_filename(op.join(saveloc, savename))\n",
    "    #matched.append(matched_data)\n",
    "#\n",
    "    #axes[i, 0].set_title(f\"{op.basename(file)}\")\n",
    "#\n",
    "    ##img_percentile = np.percentile(image_data.flatten(), 99, method=\"nearest\")+20\n",
    "    #img_percentile = 256\n",
    "#\n",
    "    #nbins=(image_data.max()/2).astype(int)\n",
    "#\n",
    "    #axes[i, 0].hist(image_data.flatten(), bins=nbins, range=(0, img_percentile), color=\"tab:blue\")\n",
    "    #axes[i, 0].hist(matched_data.flatten(), bins=nbins, range=(0, img_percentile), color=\"tab:orange\", alpha=.6)\n",
    "    #axes[i, 0].axis([0, 256, 0, 60000])\n",
    "    #\n",
    "    #axes[i, 1].imshow(image_data[..., 100], cmap=\"binary_r\", vmin=0, vmax=256)\n",
    "    #axes[i, 2].imshow(matched_data[..., 100], cmap=\"binary_r\", vmin=0, vmax=256)"
   ]
  },
  {
   "cell_type": "code",
   "execution_count": null,
   "metadata": {},
   "outputs": [],
   "source": [
    "fig, axes = plt.subplots(nrows=len(anat_files_list_red), ncols=3, figsize=(15, 5*len(anat_files_list_red)))\n",
    "#fig, axes = plt.subplots(nrows=len(anat_files_list_red), ncols=1, figsize=(10, 5*len(anat_files_list_red)))\n",
    "\n",
    "for i, (file, matched_array) in enumerate(zip(anat_files_list_red, matched)):\n",
    "    image_data = nib.load(file).get_fdata()\n",
    "\n",
    "    axes[i, 0].set_title(f\"{op.basename(file)}\")\n",
    "\n",
    "    #img_percentile = np.percentile(image_data.flatten(), 99, method=\"nearest\")+20\n",
    "    img_percentile = 256\n",
    "\n",
    "    nbins=(image_data.max()/2).astype(int)\n",
    "\n",
    "    axes[i, 0].hist(image_data.flatten(), bins=nbins, range=(0, img_percentile), color=\"tab:blue\")\n",
    "    axes[i, 0].hist(matched_array.flatten(), bins=nbins, range=(0, img_percentile), color=\"tab:orange\", alpha=.6)\n",
    "    axes[i, 0].axis([0, 256, 0, 60000])\n",
    "    \n",
    "    axes[i, 1].imshow(image_data[..., 100], cmap=\"binary_r\", vmin=0, vmax=256)\n",
    "    axes[i, 2].imshow(matched_array[..., 100], cmap=\"binary_r\", vmin=0, vmax=256)"
   ]
  },
  {
   "cell_type": "code",
   "execution_count": null,
   "metadata": {},
   "outputs": [],
   "source": [
    "len(matched)"
   ]
  },
  {
   "cell_type": "code",
   "execution_count": null,
   "metadata": {},
   "outputs": [],
   "source": [
    "anat_files_list_red = anat_files_list#[:2]\n",
    "\n",
    "fig, axes = plt.subplots(nrows=1, ncols=1, figsize=(12, 10))\n",
    "#fig, axes = plt.subplots(nrows=len(anat_files_list_red), ncols=1, figsize=(10, 5*len(anat_files_list_red)))\n",
    "\n",
    "img_percentile = np.percentile(first_data.flatten(), 99, method=\"nearest\")+20\n",
    "nbins=(first_data.max()/2).astype(int)\n",
    "\n",
    "colors = plt.get_cmap(\"Spectral\", len(anat_files_list_red)+2)\n",
    "\n",
    "plt.hist(first_data.flatten(), bins=nbins, range=(10, img_percentile), color=\"tab:blue\", alpha=.8)\n",
    "\n",
    "for i, matched_img in enumerate(matched):\n",
    "    plt.hist(matched_img.flatten(), bins=nbins, histtype=\"step\", range=(0, 256), alpha=.6,\n",
    "             color=colors(i), linewidth=2, label=op.basename(file))\n",
    "    \n",
    "plt.axis([0, 256, 0, 60000])\n",
    "fig.legend(loc=\"upper right\", bbox_to_anchor=(1.2, 0.9))"
   ]
  },
  {
   "cell_type": "markdown",
   "metadata": {},
   "source": []
  },
  {
   "cell_type": "code",
   "execution_count": null,
   "metadata": {},
   "outputs": [],
   "source": []
  },
  {
   "cell_type": "code",
   "execution_count": null,
   "metadata": {},
   "outputs": [],
   "source": []
  }
 ],
 "metadata": {
  "kernelspec": {
   "display_name": "hcph-template",
   "language": "python",
   "name": "python3"
  },
  "language_info": {
   "codemirror_mode": {
    "name": "ipython",
    "version": 3
   },
   "file_extension": ".py",
   "mimetype": "text/x-python",
   "name": "python",
   "nbconvert_exporter": "python",
   "pygments_lexer": "ipython3",
   "version": "3.10.13"
  }
 },
 "nbformat": 4,
 "nbformat_minor": 2
}
