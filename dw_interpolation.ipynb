{
 "cells": [
  {
   "cell_type": "code",
   "execution_count": 4,
   "metadata": {},
   "outputs": [],
   "source": [
    "import numpy as np\n",
    "\n",
    "import os\n",
    "import os.path as op\n",
    "\n",
    "import matplotlib.pyplot as plt\n",
    "\n",
    "import h5py\n",
    "\n",
    "import nibabel as nib\n",
    "from nilearn.datasets import load_mni152_template\n",
    "from nilearn import plotting\n",
    "\n",
    "import importlib\n",
    "\n",
    "import interpolation as interp"
   ]
  },
  {
   "cell_type": "code",
   "execution_count": 5,
   "metadata": {},
   "outputs": [
    {
     "name": "stdout",
     "output_type": "stream",
     "text": [
      "Template image has shape: (252, 288, 192) and affine\n",
      "[[ 7.98610985e-01 -3.91079826e-12  3.20000004e-06 -1.00127357e+02]\n",
      " [-8.86697744e-12  7.98610985e-01  3.20000004e-06 -8.80923615e+01]\n",
      " [-3.19444393e-06 -3.19444393e-06  8.00000012e-01 -6.56193848e+01]\n",
      " [ 0.00000000e+00  0.00000000e+00  0.00000000e+00  1.00000000e+00]]\n",
      "MNI image has shape: (491, 581, 471) and affine\n",
      "[[   0.4    0.     0.   -98. ]\n",
      " [   0.     0.4    0.  -134. ]\n",
      " [   0.     0.     0.4  -72. ]\n",
      " [   0.     0.     0.     1. ]]\n"
     ]
    }
   ],
   "source": [
    "# load template\n",
    "path_to_dir = \"/home/acionca/Documents/data/hcph-template/multivar-v00/derivatives/ants-t1N4bfcorr-b80-norm_run-1/\"\n",
    "template_files = [\"A_tpl_template0.nii.gz\", \"A_tpl_template1.nii.gz\"]\n",
    "path_to_templates = [op.join(path_to_dir, file) for file in template_files]\n",
    "\n",
    "t1w_template = nib.load(path_to_templates[0])\n",
    "\n",
    "print(f\"Template image has shape: {t1w_template.shape} and affine\\n{t1w_template.affine}\")\n",
    "\n",
    "resolution = 0.4\n",
    "mni_template = load_mni152_template(resolution)\n",
    "print(f\"MNI image has shape: {mni_template.shape} and affine\\n{mni_template.affine}\")\n",
    "\n",
    "mni_saveloc = \"/home/acionca/Documents/data/hcph-template/mni_template\"\n",
    "mni_filename = f\"mni_template-res{resolution}mm.nii.gz\"\n",
    "os.makedirs(mni_saveloc, exist_ok=True)\n",
    "\n",
    "if not op.isfile(op.join(mni_saveloc, mni_filename)):\n",
    "    print(\"Saving MNI Template\")\n",
    "    mni_template.to_filename(op.join(mni_saveloc, mni_filename))"
   ]
  },
  {
   "cell_type": "code",
   "execution_count": 6,
   "metadata": {},
   "outputs": [
    {
     "name": "stdout",
     "output_type": "stream",
     "text": [
      "[[  2.66385392 -57.4843245   -7.97598783]\n",
      " [  3.16472156 -56.98345686  -7.47598383]\n",
      " [  3.6655892  -56.48258922  -6.97597984]\n",
      " [  4.16645684 -55.98172158  -6.47597585]\n",
      " [  4.66732449 -55.48085394  -5.97597186]\n",
      " [  5.16819213 -54.9799863   -5.47596786]\n",
      " [  5.66905977 -54.47911866  -4.97596387]\n",
      " [  6.16992741 -53.97825102  -4.47595988]\n",
      " [  6.67079505 -53.47738337  -3.97595589]\n",
      " [  7.17166269 -52.97651573  -3.47595189]]\n"
     ]
    }
   ],
   "source": [
    "coords_in = [[i, i, i] for i in np.arange(10)]\n",
    "\n",
    "print(interp.map_coordinates(coords_in, t1w_template, mni_template))"
   ]
  },
  {
   "cell_type": "code",
   "execution_count": 7,
   "metadata": {},
   "outputs": [
    {
     "name": "stdout",
     "output_type": "stream",
     "text": [
      "Grid has shape (491, 581, 471) with voxel size 0.4\n"
     ]
    }
   ],
   "source": [
    "mni_empty = nib.Nifti1Image(np.zeros(mni_template.shape), affine=mni_template.affine)\n",
    "mni_empty_array = mni_empty.get_fdata()\n",
    "\n",
    "grid_shape = mni_empty.shape\n",
    "grid_affine = mni_empty.affine\n",
    "print(f\"Grid has shape {grid_shape} with voxel size {grid_affine[0, 0]}\")"
   ]
  },
  {
   "cell_type": "code",
   "execution_count": 8,
   "metadata": {},
   "outputs": [
    {
     "name": "stdout",
     "output_type": "stream",
     "text": [
      "Consensus boundary is: \n",
      " [[  1 112   2]\n",
      " [491 581 426]]\n"
     ]
    }
   ],
   "source": [
    "importlib.reload(interp)\n",
    "\n",
    "from itertools import product\n",
    "\n",
    "t1w_files = interp.get_anat_filenames(path_to_dir, pattern=\"desc-N4corrdennorm\")\n",
    "t1w_files_wDir = [op.join(path_to_dir, file) for file in t1w_files]\n",
    "\n",
    "boundary = interp.consensus_boundary(t1w_files_wDir, mni_empty)"
   ]
  },
  {
   "cell_type": "code",
   "execution_count": 10,
   "metadata": {},
   "outputs": [
    {
     "name": "stdout",
     "output_type": "stream",
     "text": [
      "Boundary has size 490x469x424 which is equal to 97439440 voxels.\n"
     ]
    },
    {
     "data": {
      "application/vnd.jupyter.widget-view+json": {
       "model_id": "f87a0ccde6714471b663dd1acf6eb388",
       "version_major": 2,
       "version_minor": 0
      },
      "text/plain": [
       "  0%|          | 0/10 [00:00<?, ?it/s]"
      ]
     },
     "metadata": {},
     "output_type": "display_data"
    },
    {
     "name": "stdout",
     "output_type": "stream",
     "text": [
      "Slice has 229810 voxels.\n",
      "Slice has 229810 voxels.\n",
      "Slice has 229810 voxels.\n",
      "Slice has 229810 voxels.\n",
      "Slice has 229810 voxels.\n",
      "Slice has 229810 voxels.\n",
      "Slice has 229810 voxels.\n",
      "Slice has 229810 voxels.\n",
      "Slice has 229810 voxels.\n",
      "Slice has 229810 voxels.\n"
     ]
    }
   ],
   "source": [
    "importlib.reload(interp)\n",
    "from tqdm.notebook import tqdm\n",
    "\n",
    "weight = 0.3\n",
    "\n",
    "x_dim = np.arange(boundary[0, 0], boundary[1, 0]).astype(int)\n",
    "y_dim = np.arange(boundary[0, 1], boundary[1, 1]).astype(int)\n",
    "z_dim = np.arange(boundary[0, 2], boundary[1, 2]).astype(int)\n",
    "\n",
    "print(f\"Boundary has size {len(x_dim)}x{len(y_dim)}x{len(z_dim)} \"\n",
    "      f\"which is equal to {len(x_dim)*len(y_dim)*len(z_dim)} voxels.\")\n",
    "\n",
    "grid_array = np.zeros_like(mni_empty_array)\n",
    "grid_array_w = grid_array.copy()\n",
    "\n",
    "for slice_id in tqdm(np.arange(len(z_dim))[300:310]):\n",
    "      # Iterate over slices\n",
    "      #slice_id = 200\n",
    "      z_dim_sliced = z_dim[slice_id]\n",
    "      one_slice_midCoords = [(prod[0], prod[1], prod[2]) for prod in product(x_dim, y_dim, [z_dim_sliced])]\n",
    "      one_slice_Coords = np.array(one_slice_midCoords).astype(int)\n",
    "      one_slice_midCoords = np.array(one_slice_midCoords) + 0.5\n",
    "\n",
    "      print(f\"Slice has {len(one_slice_midCoords)} voxels.\")\n",
    "\n",
    "      files_to_loop = t1w_files.copy()\n",
    "\n",
    "      slice_array = np.zeros((len(files_to_loop), grid_array.shape[0], grid_array.shape[1]))\n",
    "      slice_array_w = np.zeros((len(files_to_loop), grid_array.shape[0], grid_array.shape[1]))\n",
    "\n",
    "      for file_id, file in enumerate(files_to_loop):\n",
    "            img = nib.load(op.join(path_to_dir, file))\n",
    "\n",
    "            array_values_weighted, array_values = interp.dist_weighted_sampling(\n",
    "                  img, mni_empty, one_slice_midCoords, return_unweighted=True\n",
    "                  )\n",
    "\n",
    "            one_slice_ids = (one_slice_Coords.T[0], one_slice_Coords.T[1])\n",
    "\n",
    "            slice_array[file_id][one_slice_ids] = array_values\n",
    "            slice_array_w[file_id][one_slice_ids] = array_values_weighted\n",
    "\n",
    "      grid_array[..., slice_id] = slice_array.mean(axis=0)\n",
    "      grid_array_w[..., slice_id] = slice_array_w.mean(axis=0)\n",
    "\n",
    "#inter_img = nib.Nifti1Image(grid_array, affine=mni_empty.affine)\n",
    "#inter_img_w = nib.Nifti1Image(grid_array_w, affine=mni_empty.affine)\n",
    "#\n",
    "#inter_img.to_filename(\"/home/acionca/Documents/data/hcph-template/interpolated_template.nii.gz\")\n",
    "#inter_img_w.to_filename(\"/home/acionca/Documents/data/hcph-template/interpolated_template_weighted.nii.gz\")"
   ]
  },
  {
   "cell_type": "code",
   "execution_count": 17,
   "metadata": {},
   "outputs": [
    {
     "name": "stdout",
     "output_type": "stream",
     "text": [
      "Boundary has size 490x469x424 which is equal to 97439440 voxels.\n",
      "ZCOORDS [302 303]\n",
      "Slice has 459620 voxels.\n",
      "ZCOORDS [304 305]\n",
      "Slice has 459620 voxels.\n"
     ]
    }
   ],
   "source": [
    "importlib.reload(interp)\n",
    "from tqdm.notebook import tqdm\n",
    "\n",
    "midVox = 0.5\n",
    "weight = 0.3\n",
    "\n",
    "x_dim = np.arange(boundary[0, 0], boundary[1, 0]).astype(int)\n",
    "y_dim = np.arange(boundary[0, 1], boundary[1, 1]).astype(int)\n",
    "z_dim = np.arange(boundary[0, 2], boundary[1, 2]).astype(int)\n",
    "\n",
    "print(f\"Boundary has size {len(x_dim)}x{len(y_dim)}x{len(z_dim)} \"\n",
    "      f\"which is equal to {len(x_dim)*len(y_dim)*len(z_dim)} voxels.\")\n",
    "\n",
    "grid_array = np.zeros_like(mni_empty_array)\n",
    "grid_array_w = grid_array.copy()\n",
    "\n",
    "slab_size = 2\n",
    "\n",
    "for slab_id in [0, 1]:\n",
    "      z_dim_sliced = z_dim[300+slab_size*slab_id:300+(1+slab_id)*slab_size]\n",
    "\n",
    "      print(\"ZCOORDS\", z_dim_sliced)\n",
    "      \n",
    "      one_slice_midCoords = [(prod[0], prod[1], prod[2]) for prod in product(x_dim, y_dim, z_dim_sliced)]\n",
    "      one_slice_Coords = np.array(one_slice_midCoords).astype(int)\n",
    "      one_slice_midCoords = np.array(one_slice_midCoords) + 0.5\n",
    "\n",
    "      print(f\"Slice has {len(one_slice_midCoords)} voxels.\")\n",
    "\n",
    "      files_to_loop = t1w_files.copy()\n",
    "      slice_array = np.zeros((len(files_to_loop), grid_array.shape[0], grid_array.shape[1]))\n",
    "      slice_array_w = np.zeros((len(files_to_loop), grid_array.shape[0], grid_array.shape[1]))\n",
    "\n",
    "      for file_id, file in enumerate(files_to_loop):\n",
    "            img = nib.load(op.join(path_to_dir, file))\n",
    "            array_values_weighted, array_values = interp.dist_weighted_sampling(\n",
    "                  img, mni_empty, one_slice_midCoords, return_unweighted=True\n",
    "                  )\n",
    "            one_slice_ids = (one_slice_Coords.T[0], one_slice_Coords.T[1])\n",
    "            slice_array[file_id][one_slice_ids] = array_values\n",
    "            slice_array_w[file_id][one_slice_ids] = array_values_weighted\n",
    "\n",
    "      grid_array[..., slice_id] = slice_array.mean(axis=0)\n",
    "      grid_array_w[..., slice_id] = slice_array_w.mean(axis=0)\n",
    "\n",
    "del grid_array, grid_array_w, one_slice_Coords, one_slice_midCoords, slice_array, slice_array_w\n",
    "\n",
    "#inter_img = nib.Nifti1Image(grid_array, affine=mni_empty.affine)\n",
    "#inter_img_w = nib.Nifti1Image(grid_array_w, affine=mni_empty.affine)\n",
    "#\n",
    "#inter_img.to_filename(\"/home/acionca/Documents/data/hcph-template/interpolated_template.nii.gz\")\n",
    "#inter_img_w.to_filename(\"/home/acionca/Documents/data/hcph-template/interpolated_template_weighted.nii.gz\")"
   ]
  },
  {
   "cell_type": "code",
   "execution_count": 26,
   "metadata": {},
   "outputs": [
    {
     "name": "stdout",
     "output_type": "stream",
     "text": [
      "coords\n",
      "(13934592,)\n",
      "-100.12735748291016 100.32461102102448\n",
      "(13934592,)\n",
      "-88.09236145019531 141.1096025226831\n",
      "(13934592,)\n",
      "-65.619384765625 87.1788989004358\n",
      "index\n",
      "0 490\n",
      "0 580\n",
      "0 470\n"
     ]
    }
   ],
   "source": [
    "from nitransforms.base import ImageGrid\n",
    "\n",
    "mni_grid = ImageGrid(mni_empty)\n",
    "one_img_grid = ImageGrid(t1w_files_wDir[0])\n",
    "\n",
    "print(\"index\")\n",
    "for some_coords in mni_grid.ndindex:\n",
    "    #print(some_coords.shape)\n",
    "    print(some_coords[0], some_coords[-1])"
   ]
  },
  {
   "cell_type": "code",
   "execution_count": 33,
   "metadata": {},
   "outputs": [
    {
     "name": "stdout",
     "output_type": "stream",
     "text": [
      "Consensus boundary is: \n",
      " [[  1 112   2]\n",
      " [491 581 426]]\n",
      "Boundary has size 490x469x424 which is equal to 97439440 voxels.\n",
      "Data has been split in:\n",
      "37 slabs of size 10, 6 slabs of size 9\n",
      "Slice has 2298100 voxels.\n",
      "(35, 490, 469, 10)\n",
      "[  1   1   1 ... 490 490 490]\n",
      "Unexpected exception formatting exception. Falling back to standard exception\n"
     ]
    },
    {
     "name": "stderr",
     "output_type": "stream",
     "text": [
      "Traceback (most recent call last):\n",
      "  File \"/home/acionca/miniconda3/envs/hcph-template/lib/python3.9/site-packages/IPython/core/interactiveshell.py\", line 3526, in run_code\n",
      "    exec(code_obj, self.user_global_ns, self.user_ns)\n",
      "  File \"/tmp/ipykernel_380540/947308466.py\", line 3, in <module>\n",
      "    interp.dist_weighted_interpolation(t1w_files_wDir, mni_empty, slab_size=10, v=True)\n",
      "  File \"/home/acionca/Documents/code/hcph-template/interpolation.py\", line 261, in dist_weighted_interpolation\n",
      "    slab_values[file_id][slab_coords_ids],\n",
      "IndexError: index 490 is out of bounds for axis 0 with size 490\n",
      "\n",
      "During handling of the above exception, another exception occurred:\n",
      "\n",
      "Traceback (most recent call last):\n",
      "  File \"/home/acionca/miniconda3/envs/hcph-template/lib/python3.9/site-packages/IPython/core/interactiveshell.py\", line 2120, in showtraceback\n",
      "    stb = self.InteractiveTB.structured_traceback(\n",
      "  File \"/home/acionca/miniconda3/envs/hcph-template/lib/python3.9/site-packages/IPython/core/ultratb.py\", line 1435, in structured_traceback\n",
      "    return FormattedTB.structured_traceback(\n",
      "  File \"/home/acionca/miniconda3/envs/hcph-template/lib/python3.9/site-packages/IPython/core/ultratb.py\", line 1326, in structured_traceback\n",
      "    return VerboseTB.structured_traceback(\n",
      "  File \"/home/acionca/miniconda3/envs/hcph-template/lib/python3.9/site-packages/IPython/core/ultratb.py\", line 1173, in structured_traceback\n",
      "    formatted_exception = self.format_exception_as_a_whole(etype, evalue, etb, number_of_lines_of_context,\n",
      "  File \"/home/acionca/miniconda3/envs/hcph-template/lib/python3.9/site-packages/IPython/core/ultratb.py\", line 1088, in format_exception_as_a_whole\n",
      "    frames.append(self.format_record(record))\n",
      "  File \"/home/acionca/miniconda3/envs/hcph-template/lib/python3.9/site-packages/IPython/core/ultratb.py\", line 970, in format_record\n",
      "    frame_info.lines, Colors, self.has_colors, lvals\n",
      "  File \"/home/acionca/miniconda3/envs/hcph-template/lib/python3.9/site-packages/IPython/core/ultratb.py\", line 792, in lines\n",
      "    return self._sd.lines\n",
      "  File \"/home/acionca/miniconda3/envs/hcph-template/lib/python3.9/site-packages/stack_data/utils.py\", line 145, in cached_property_wrapper\n",
      "    value = obj.__dict__[self.func.__name__] = self.func(obj)\n",
      "  File \"/home/acionca/miniconda3/envs/hcph-template/lib/python3.9/site-packages/stack_data/core.py\", line 698, in lines\n",
      "    pieces = self.included_pieces\n",
      "  File \"/home/acionca/miniconda3/envs/hcph-template/lib/python3.9/site-packages/stack_data/utils.py\", line 145, in cached_property_wrapper\n",
      "    value = obj.__dict__[self.func.__name__] = self.func(obj)\n",
      "  File \"/home/acionca/miniconda3/envs/hcph-template/lib/python3.9/site-packages/stack_data/core.py\", line 649, in included_pieces\n",
      "    pos = scope_pieces.index(self.executing_piece)\n",
      "  File \"/home/acionca/miniconda3/envs/hcph-template/lib/python3.9/site-packages/stack_data/utils.py\", line 145, in cached_property_wrapper\n",
      "    value = obj.__dict__[self.func.__name__] = self.func(obj)\n",
      "  File \"/home/acionca/miniconda3/envs/hcph-template/lib/python3.9/site-packages/stack_data/core.py\", line 628, in executing_piece\n",
      "    return only(\n",
      "  File \"/home/acionca/miniconda3/envs/hcph-template/lib/python3.9/site-packages/executing/executing.py\", line 164, in only\n",
      "    raise NotOneValueFound('Expected one value, found 0')\n",
      "executing.executing.NotOneValueFound: Expected one value, found 0\n"
     ]
    }
   ],
   "source": [
    "importlib.reload(interp)\n",
    "\n",
    "interp.dist_weighted_interpolation(t1w_files_wDir, mni_empty, slab_size=10, v=True)"
   ]
  },
  {
   "cell_type": "code",
   "execution_count": null,
   "metadata": {},
   "outputs": [],
   "source": []
  },
  {
   "cell_type": "code",
   "execution_count": 23,
   "metadata": {},
   "outputs": [
    {
     "ename": "NameError",
     "evalue": "name 'slice_array' is not defined",
     "output_type": "error",
     "traceback": [
      "\u001b[0;31m---------------------------------------------------------------------------\u001b[0m",
      "\u001b[0;31mNameError\u001b[0m                                 Traceback (most recent call last)",
      "Cell \u001b[0;32mIn[23], line 3\u001b[0m\n\u001b[1;32m      1\u001b[0m fig, ax \u001b[38;5;241m=\u001b[39m plt\u001b[38;5;241m.\u001b[39msubplots(nrows\u001b[38;5;241m=\u001b[39m\u001b[38;5;241m1\u001b[39m, ncols\u001b[38;5;241m=\u001b[39m\u001b[38;5;241m2\u001b[39m, figsize\u001b[38;5;241m=\u001b[39m(\u001b[38;5;241m20\u001b[39m, \u001b[38;5;241m10\u001b[39m))\n\u001b[0;32m----> 3\u001b[0m ax[\u001b[38;5;241m0\u001b[39m]\u001b[38;5;241m.\u001b[39mimshow(\u001b[43mslice_array\u001b[49m\u001b[38;5;241m.\u001b[39mmean(axis\u001b[38;5;241m=\u001b[39m\u001b[38;5;241m0\u001b[39m))\n\u001b[1;32m      4\u001b[0m ax[\u001b[38;5;241m1\u001b[39m]\u001b[38;5;241m.\u001b[39mimshow(slice_array_w\u001b[38;5;241m.\u001b[39mmean(axis\u001b[38;5;241m=\u001b[39m\u001b[38;5;241m0\u001b[39m))\n",
      "\u001b[0;31mNameError\u001b[0m: name 'slice_array' is not defined"
     ]
    },
    {
     "data": {
      "image/png": "[encoded data removed]",
      "text/plain": [
       "<Figure size 2000x1000 with 2 Axes>"
      ]
     },
     "metadata": {},
     "output_type": "display_data"
    }
   ],
   "source": [
    "fig, ax = plt.subplots(nrows=1, ncols=2, figsize=(20, 10))\n",
    "\n",
    "ax[0].imshow(slice_array.mean(axis=0))\n",
    "ax[1].imshow(slice_array_w.mean(axis=0))"
   ]
  },
  {
   "cell_type": "code",
   "execution_count": null,
   "metadata": {},
   "outputs": [],
   "source": []
  }
 ],
 "metadata": {
  "kernelspec": {
   "display_name": "hcph-qct",
   "language": "python",
   "name": "python3"
  },
  "language_info": {
   "codemirror_mode": {
    "name": "ipython",
    "version": 3
   },
   "file_extension": ".py",
   "mimetype": "text/x-python",
   "name": "python",
   "nbconvert_exporter": "python",
   "pygments_lexer": "ipython3",
   "version": "3.9.0"
  }
 },
 "nbformat": 4,
 "nbformat_minor": 2
}
